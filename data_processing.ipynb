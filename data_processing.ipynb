{
 "cells": [
  {
   "cell_type": "code",
   "execution_count": 1,
   "metadata": {},
   "outputs": [
    {
     "name": "stdout",
     "output_type": "stream",
     "text": [
      "Requirement already satisfied: ipywidgets in c:\\users\\kbartels\\appdata\\local\\miniconda3\\lib\\site-packages (8.1.3)Note: you may need to restart the kernel to use updated packages.\n",
      "\n",
      "Requirement already satisfied: comm>=0.1.3 in c:\\users\\kbartels\\appdata\\local\\miniconda3\\lib\\site-packages (from ipywidgets) (0.2.1)\n",
      "Requirement already satisfied: ipython>=6.1.0 in c:\\users\\kbartels\\appdata\\local\\miniconda3\\lib\\site-packages (from ipywidgets) (8.20.0)\n",
      "Requirement already satisfied: traitlets>=4.3.1 in c:\\users\\kbartels\\appdata\\local\\miniconda3\\lib\\site-packages (from ipywidgets) (5.14.1)\n",
      "Requirement already satisfied: widgetsnbextension~=4.0.11 in c:\\users\\kbartels\\appdata\\local\\miniconda3\\lib\\site-packages (from ipywidgets) (4.0.11)\n",
      "Requirement already satisfied: jupyterlab-widgets~=3.0.11 in c:\\users\\kbartels\\appdata\\local\\miniconda3\\lib\\site-packages (from ipywidgets) (3.0.11)\n",
      "Requirement already satisfied: decorator in c:\\users\\kbartels\\appdata\\local\\miniconda3\\lib\\site-packages (from ipython>=6.1.0->ipywidgets) (5.1.1)\n",
      "Requirement already satisfied: jedi>=0.16 in c:\\users\\kbartels\\appdata\\local\\miniconda3\\lib\\site-packages (from ipython>=6.1.0->ipywidgets) (0.19.1)\n",
      "Requirement already satisfied: matplotlib-inline in c:\\users\\kbartels\\appdata\\local\\miniconda3\\lib\\site-packages (from ipython>=6.1.0->ipywidgets) (0.1.6)\n",
      "Requirement already satisfied: prompt-toolkit<3.1.0,>=3.0.41 in c:\\users\\kbartels\\appdata\\local\\miniconda3\\lib\\site-packages (from ipython>=6.1.0->ipywidgets) (3.0.43)\n",
      "Requirement already satisfied: pygments>=2.4.0 in c:\\users\\kbartels\\appdata\\local\\miniconda3\\lib\\site-packages (from ipython>=6.1.0->ipywidgets) (2.17.2)\n",
      "Requirement already satisfied: stack-data in c:\\users\\kbartels\\appdata\\local\\miniconda3\\lib\\site-packages (from ipython>=6.1.0->ipywidgets) (0.6.3)\n",
      "Requirement already satisfied: colorama in c:\\users\\kbartels\\appdata\\local\\miniconda3\\lib\\site-packages (from ipython>=6.1.0->ipywidgets) (0.4.6)\n",
      "Requirement already satisfied: parso<0.9.0,>=0.8.3 in c:\\users\\kbartels\\appdata\\local\\miniconda3\\lib\\site-packages (from jedi>=0.16->ipython>=6.1.0->ipywidgets) (0.8.3)\n",
      "Requirement already satisfied: wcwidth in c:\\users\\kbartels\\appdata\\local\\miniconda3\\lib\\site-packages (from prompt-toolkit<3.1.0,>=3.0.41->ipython>=6.1.0->ipywidgets) (0.2.13)\n",
      "Requirement already satisfied: executing>=1.2.0 in c:\\users\\kbartels\\appdata\\local\\miniconda3\\lib\\site-packages (from stack-data->ipython>=6.1.0->ipywidgets) (2.0.1)\n",
      "Requirement already satisfied: asttokens>=2.1.0 in c:\\users\\kbartels\\appdata\\local\\miniconda3\\lib\\site-packages (from stack-data->ipython>=6.1.0->ipywidgets) (2.4.1)\n",
      "Requirement already satisfied: pure-eval in c:\\users\\kbartels\\appdata\\local\\miniconda3\\lib\\site-packages (from stack-data->ipython>=6.1.0->ipywidgets) (0.2.2)\n",
      "Requirement already satisfied: six>=1.12.0 in c:\\users\\kbartels\\appdata\\local\\miniconda3\\lib\\site-packages (from asttokens>=2.1.0->stack-data->ipython>=6.1.0->ipywidgets) (1.16.0)\n",
      "\n",
      "Upload LimnoTech Session/Critter report (csv format).\n"
     ]
    },
    {
     "data": {
      "application/vnd.jupyter.widget-view+json": {
       "model_id": "1610220a7a5b45fe9be554373d0c0515",
       "version_major": 2,
       "version_minor": 0
      },
      "text/plain": [
       "FileUpload(value=(), accept='.csv', description='Upload')"
      ]
     },
     "metadata": {},
     "output_type": "display_data"
    },
    {
     "name": "stdout",
     "output_type": "stream",
     "text": [
      "\n",
      "Click the button to transform the uploaded file.\n"
     ]
    },
    {
     "data": {
      "application/vnd.jupyter.widget-view+json": {
       "model_id": "661330d2ecd4454ca2d0e683516bb68b",
       "version_major": 2,
       "version_minor": 0
      },
      "text/plain": [
       "Button(description='Transform Data', style=ButtonStyle(), tooltip='Click me')"
      ]
     },
     "metadata": {},
     "output_type": "display_data"
    },
    {
     "data": {
      "application/vnd.jupyter.widget-view+json": {
       "model_id": "5b48ccd50b8b46ab8d79ea6bc7d6a4c0",
       "version_major": 2,
       "version_minor": 0
      },
      "text/plain": [
       "Output()"
      ]
     },
     "metadata": {},
     "output_type": "display_data"
    }
   ],
   "source": [
    "%pip install ipywidgets\n",
    "\n",
    "import ipywidgets as widgets\n",
    "import pandas as pd\n",
    "import io\n",
    "from IPython.display import FileLink\n",
    "\n",
    "# Function to handle file upload and data processing\n",
    "def edit_data(b):\n",
    "    with output:\n",
    "        # Clear any previous output\n",
    "        output.clear_output()\n",
    "        \n",
    "        # Check if file is uploaded\n",
    "        if uploader.value:\n",
    "            uploaded_file = uploader.value[0]\n",
    "            \n",
    "            # Read uploaded file into a Pandas DataFrame\n",
    "            df = pd.read_csv(io.BytesIO(uploaded_file['content']))\n",
    "            \n",
    "            # Convert 'Mon_Date_Time' column to datetime\n",
    "            df['Session_Date'] = pd.to_datetime(df['Mon_Date_Time'])\n",
    "            \n",
    "            # Ensure datetime conversion was successful\n",
    "            if 'Session_Date' in df.columns:\n",
    "                # Group by 'site' and find rows with max 'session_date' for each 'site'\n",
    "                latest_sessions = df[df.groupby('WQMSite ID')['Session_Date'].transform('max') == df['Mon_Date_Time']]\n",
    "                \n",
    "                # Save the result to a new CSV file\n",
    "                output_file = 'newest_sessions.csv'\n",
    "                latest_sessions.to_csv(output_file, index=False)\n",
    "                \n",
    "                # Print success message\n",
    "                # print(f\"Newest sessions for each site saved to {output_file}\")\n",
    "\n",
    "                print('\\nClick the link to navigate to your new file.')\n",
    "                display(FileLink(output_file))\n",
    "\n",
    "            else:\n",
    "                print(\"Error: 'session_date' column not found or not in datetime format.\")\n",
    "        else:\n",
    "            print(\"Error: No file uploaded.\")\n",
    "\n",
    "# Initialize widgets and button click event\n",
    "output = widgets.Output()\n",
    "uploader = widgets.FileUpload(accept='.csv', multiple=False)\n",
    "button = widgets.Button(description='Transform Data', tooltip='Click me')\n",
    "button.on_click(edit_data)\n",
    "\n",
    "# Display widgets and button\n",
    "print('\\nUpload LimnoTech Session/Critter report (csv format).')\n",
    "display(uploader)\n",
    "\n",
    "print('\\nClick the button to transform the uploaded file.')\n",
    "display(button)\n",
    "display(output)"
   ]
  },
  {
   "cell_type": "code",
   "execution_count": null,
   "metadata": {},
   "outputs": [],
   "source": []
  }
 ],
 "metadata": {
  "kernelspec": {
   "display_name": "Python 3 (ipykernel)",
   "language": "python",
   "name": "python3"
  },
  "language_info": {
   "codemirror_mode": {
    "name": "ipython",
    "version": 3
   },
   "file_extension": ".py",
   "mimetype": "text/x-python",
   "name": "python",
   "nbconvert_exporter": "python",
   "pygments_lexer": "ipython3",
   "version": "3.12.1"
  }
 },
 "nbformat": 4,
 "nbformat_minor": 4
}
